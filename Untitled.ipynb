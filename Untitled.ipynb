{
 "cells": [
  {
   "cell_type": "code",
   "execution_count": null,
   "id": "fe862d64",
   "metadata": {},
   "outputs": [],
   "source": [
    "# Abdalelah Taleb 201910602  ( m 8 - 11 )"
   ]
  },
  {
   "cell_type": "code",
   "execution_count": 30,
   "id": "cfcf547b",
   "metadata": {},
   "outputs": [],
   "source": [
    "d0='He likes to wink , he likes to drink'\n",
    "d1='He likes to drink , and drink , and drink'\n",
    "d2 = 'The thing he likes to drink is ink'\n",
    "d3='The ink he likes to drink is pink'\n",
    "d4= 'He likes to wink , and drink pink ink'\n",
    "boolean_operators = {'AND', 'OR', 'NOT'}\n",
    "collection = {\"doc0\": d0, \"doc1\": d1,\n",
    "\"doc2\": d2, \"doc3\": d3, \"doc4\": d4}"
   ]
  },
  {
   "cell_type": "code",
   "execution_count": 31,
   "id": "7462a49e",
   "metadata": {},
   "outputs": [],
   "source": [
    "def get_terms(data):\n",
    "    text = ' '.join(data.values())\n",
    "    terms = text.split()\n",
    "    return terms\n",
    "get_terms(collection)\n",
    "def get_unique_terms(terms):\n",
    "    # Convert the list of terms to a set to remove duplicates, then convert back to a list\n",
    "    unique_terms = list(set(terms))\n",
    "    \n",
    "    return unique_terms\n",
    "def display_dict(dic):\n",
    "    for i in dic :\n",
    "        print(i,\"\",dic[i])"
   ]
  },
  {
   "cell_type": "code",
   "execution_count": 32,
   "id": "9c361878",
   "metadata": {},
   "outputs": [],
   "source": [
    "def get_document_collection_terms(data):\n",
    "    docs_collection = {}\n",
    "    \n",
    "    for doc, content in data.items():\n",
    "        # Ignore boolean operators\n",
    "        if doc in boolean_operators:\n",
    "            continue\n",
    "        \n",
    "        # Extract unique terms\n",
    "        terms = list(set(content.split()))\n",
    "        \n",
    "        # Add the document ID\n",
    "        docs_collection[doc] = terms\n",
    "    \n",
    "    return docs_collection"
   ]
  },
  {
   "cell_type": "code",
   "execution_count": 33,
   "id": "d45b3aa2",
   "metadata": {},
   "outputs": [
    {
     "data": {
      "text/plain": [
       "{'doc0': [',', 'he', 'likes', 'to', 'He', 'wink', 'drink'],\n",
       " 'doc1': [',', 'likes', 'and', 'to', 'He', 'drink'],\n",
       " 'doc2': ['is', 'The', 'he', 'likes', 'to', 'thing', 'ink', 'drink'],\n",
       " 'doc3': ['pink', 'is', 'The', 'he', 'likes', 'to', 'ink', 'drink'],\n",
       " 'doc4': ['pink', ',', 'likes', 'and', 'to', 'He', 'ink', 'wink', 'drink']}"
      ]
     },
     "execution_count": 33,
     "metadata": {},
     "output_type": "execute_result"
    }
   ],
   "source": [
    "get_document_collection_terms(collection)"
   ]
  },
  {
   "cell_type": "code",
   "execution_count": 34,
   "id": "cd21f143",
   "metadata": {},
   "outputs": [],
   "source": [
    "def term_document_incidence_matrix(collection):\n",
    "    ## list of terms from the data file collection\n",
    "    terms=get_terms(collection)\n",
    "    #list of unique terms\n",
    "    unique_terms=get_unique_terms(terms)\n",
    "    #Document collection terms \n",
    "    docs_terms=get_document_collection_terms(collection) #TermDocumentIncidenceMatrix\n",
    "    term_docs_matrix={}\n",
    "    for term in unique_terms:\n",
    "        vector=[]\n",
    "        for c in docs_terms:\n",
    "            if term in docs_terms[c]:\n",
    "                vector.append(1) \n",
    "            else :\n",
    "                vector.append(0) \n",
    "            term_docs_matrix[term]=vector\n",
    "    return term_docs_matrix"
   ]
  },
  {
   "cell_type": "code",
   "execution_count": 35,
   "id": "f7f0cbba",
   "metadata": {},
   "outputs": [],
   "source": [
    "def term_incidence_vector(term,term_docs_incid_matrix):\n",
    "    try:\n",
    "        return term_docs_incid_matrix[term] \n",
    "    except:\n",
    "        return \"term not found\""
   ]
  },
  {
   "cell_type": "code",
   "execution_count": 36,
   "id": "fbf5ca39",
   "metadata": {},
   "outputs": [],
   "source": [
    "term_docs_incid_matrix=term_document_incidence_matrix(collection)\n"
   ]
  },
  {
   "cell_type": "code",
   "execution_count": 37,
   "id": "70712775",
   "metadata": {
    "scrolled": true
   },
   "outputs": [
    {
     "name": "stdout",
     "output_type": "stream",
     "text": [
      "pink  [0, 0, 0, 1, 1]\n",
      ",  [1, 1, 0, 0, 1]\n",
      "is  [0, 0, 1, 1, 0]\n",
      "The  [0, 0, 1, 1, 0]\n",
      "he  [1, 0, 1, 1, 0]\n",
      "likes  [1, 1, 1, 1, 1]\n",
      "and  [0, 1, 0, 0, 1]\n",
      "to  [1, 1, 1, 1, 1]\n",
      "thing  [0, 0, 1, 0, 0]\n",
      "He  [1, 1, 0, 0, 1]\n",
      "ink  [0, 0, 1, 1, 1]\n",
      "wink  [1, 0, 0, 0, 1]\n",
      "drink  [1, 1, 1, 1, 1]\n",
      "<function term_document_incidence_matrix at 0x1079576a0>\n"
     ]
    }
   ],
   "source": [
    "\n",
    "display_dict(term_docs_incid_matrix)\n",
    "print(term_document_incidence_matrix)"
   ]
  },
  {
   "cell_type": "code",
   "execution_count": 38,
   "id": "a9e3ebbb",
   "metadata": {},
   "outputs": [
    {
     "name": "stdout",
     "output_type": "stream",
     "text": [
      "pink  [0, 0, 0, 1, 1]\n",
      ",  [1, 1, 0, 0, 1]\n",
      "is  [0, 0, 1, 1, 0]\n",
      "The  [0, 0, 1, 1, 0]\n",
      "he  [1, 0, 1, 1, 0]\n",
      "likes  [1, 1, 1, 1, 1]\n",
      "and  [0, 1, 0, 0, 1]\n",
      "to  [1, 1, 1, 1, 1]\n",
      "thing  [0, 0, 1, 0, 0]\n",
      "He  [1, 1, 0, 0, 1]\n",
      "ink  [0, 0, 1, 1, 1]\n",
      "wink  [1, 0, 0, 0, 1]\n",
      "drink  [1, 1, 1, 1, 1]\n"
     ]
    }
   ],
   "source": [
    "display_dict(term_docs_incid_matrix)"
   ]
  },
  {
   "cell_type": "code",
   "execution_count": 39,
   "id": "97ac4da5",
   "metadata": {},
   "outputs": [],
   "source": [
    "def query_filteration(query,collection):\n",
    "    terms= get_terms(collection)\n",
    "    unique_terms=get_unique_terms(terms)\n",
    "    qterms=[]\n",
    "    splitted_query=query.split()\n",
    "    for qterm in splitted_query:\n",
    "        if qterm in unique_terms or qterm in boolean_operators:qterms.append(qterm)\n",
    "    return qterms"
   ]
  },
  {
   "cell_type": "code",
   "execution_count": 40,
   "id": "6601c7c2",
   "metadata": {},
   "outputs": [],
   "source": [
    "query=\"likes AND drink powerfull\""
   ]
  },
  {
   "cell_type": "code",
   "execution_count": 41,
   "id": "f26aa6c0",
   "metadata": {},
   "outputs": [
    {
     "data": {
      "text/plain": [
       "['likes', 'AND', 'drink']"
      ]
     },
     "execution_count": 41,
     "metadata": {},
     "output_type": "execute_result"
    }
   ],
   "source": [
    "query_filteration(query,collection)"
   ]
  },
  {
   "cell_type": "code",
   "execution_count": 42,
   "id": "f7fc11de",
   "metadata": {},
   "outputs": [],
   "source": [
    "def boolean_operator_processing(bool_operator,prevV,nextV):\n",
    "    if bool_operator == \"AND\":\n",
    "        return [a & b for a, b in zip(prevV, nextV)]\n",
    "    elif bool_operator==\"OR\" :\n",
    "        return [a | b for a, b in zip(prevV, nextV)]\n",
    "    elif bool_operator == \"NOT\":\n",
    "        return [1-a for a in prevV]"
   ]
  },
  {
   "cell_type": "code",
   "execution_count": 43,
   "id": "b3d6c021",
   "metadata": {},
   "outputs": [
    {
     "name": "stdout",
     "output_type": "stream",
     "text": [
      "v1 [1, 1, 1, 1, 1]\n",
      "v2 [1, 0, 0, 0, 1]\n"
     ]
    }
   ],
   "source": [
    "v1=term_incidence_vector('drink',term_docs_incid_matrix)\n",
    "v2=term_incidence_vector('wink',term_docs_incid_matrix)\n",
    "v3=[]\n",
    "print(\"v1\",v1)\n",
    "print(\"v2\",v2)"
   ]
  },
  {
   "cell_type": "code",
   "execution_count": 44,
   "id": "0c42798e",
   "metadata": {},
   "outputs": [
    {
     "name": "stdout",
     "output_type": "stream",
     "text": [
      "[1, 0, 0, 0, 1]\n"
     ]
    }
   ],
   "source": [
    "print(boolean_operator_processing(\"AND\",v1,v2))"
   ]
  },
  {
   "cell_type": "code",
   "execution_count": 53,
   "id": "58fe90bf",
   "metadata": {},
   "outputs": [],
   "source": [
    "def  Boolean_retrieval(query,collection):\n",
    "    print('Collection : ')\n",
    "    display_dict(collection)\n",
    "    print('query :',query)\n",
    "    inc_matrix=term_document_incidence_matrix(collection)\n",
    "    query_term=query_filteration(query,collection)\n",
    "    print('query term :',query_term)\n",
    "    res=None # initial state \n",
    "    op=''\n",
    "    for term in query_term:\n",
    "        upperTerm=term.upper()\n",
    "        if upperTerm in boolean_operators:\n",
    "            op=upperTerm\n",
    "        else:\n",
    "            vector=term_incidence_vector(term,inc_matrix)\n",
    "            print(term,'',vector)\n",
    "            if res==None:\n",
    "                  res=vector\n",
    "            else : \n",
    "                res=boolean_operator_processing(op,res,vector)\n",
    "    result_collection={}\n",
    "    for i, k in enumerate(collection): \n",
    "        if res[i]==1:\n",
    "            result_collection[k]=collection[k]\n",
    "    print('Result',res)\n",
    "    display_dict(result_collection)\n",
    "\n",
    "            "
   ]
  },
  {
   "cell_type": "code",
   "execution_count": 54,
   "id": "8e506565",
   "metadata": {},
   "outputs": [
    {
     "name": "stdout",
     "output_type": "stream",
     "text": [
      "Collection : \n",
      "doc0  He likes to wink , he likes to drink\n",
      "doc1  He likes to drink , and drink , and drink\n",
      "doc2  The thing he likes to drink is ink\n",
      "doc3  The ink he likes to drink is pink\n",
      "doc4  He likes to wink , and drink pink ink\n",
      "query : wink AND drink \n",
      "query term : ['wink', 'AND', 'drink']\n",
      "wink  [1, 0, 0, 0, 1]\n",
      "drink  [1, 1, 1, 1, 1]\n",
      "Result [1, 0, 0, 0, 1]\n",
      "doc0  He likes to wink , he likes to drink\n",
      "doc4  He likes to wink , and drink pink ink\n"
     ]
    }
   ],
   "source": [
    "query='wink AND drink '\n",
    "Boolean_retrieval(query,collection)"
   ]
  },
  {
   "cell_type": "code",
   "execution_count": null,
   "id": "1e65170e",
   "metadata": {},
   "outputs": [],
   "source": [
    "\n"
   ]
  },
  {
   "cell_type": "code",
   "execution_count": null,
   "id": "bb0686c6",
   "metadata": {},
   "outputs": [],
   "source": []
  },
  {
   "cell_type": "code",
   "execution_count": null,
   "id": "7c509174",
   "metadata": {},
   "outputs": [],
   "source": []
  }
 ],
 "metadata": {
  "kernelspec": {
   "display_name": "Python 3 (ipykernel)",
   "language": "python",
   "name": "python3"
  },
  "language_info": {
   "codemirror_mode": {
    "name": "ipython",
    "version": 3
   },
   "file_extension": ".py",
   "mimetype": "text/x-python",
   "name": "python",
   "nbconvert_exporter": "python",
   "pygments_lexer": "ipython3",
   "version": "3.11.1"
  }
 },
 "nbformat": 4,
 "nbformat_minor": 5
}
