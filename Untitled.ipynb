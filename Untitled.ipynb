{
 "cells": [
  {
   "cell_type": "code",
   "execution_count": 59,
   "id": "991b51c2",
   "metadata": {},
   "outputs": [],
   "source": [
    "d0='He likes to wink , he likes to drink'\n",
    "d1='He likes to drink , and drink, and drink'\n",
    "d2 = 'The thing he likes to drink is ink'\n",
    "d3='The ink he likes to drink is pink'\n",
    "d4= 'He likes to wink , and drink pink ink'\n",
    "boolean_operators = {'AND', 'OR', 'NOT'}\n",
    "collection = {\"doc0\": d0, \"doc1\": d1,\n",
    "\"doc2\": d2, \"doc3\": d3, \"doc4\": d4}"
   ]
  },
  {
   "cell_type": "code",
   "execution_count": 60,
   "id": "949cc491",
   "metadata": {},
   "outputs": [],
   "source": [
    "def get_terms(data):\n",
    "    text = ' '.join(data.values())\n",
    "    terms = text.split()\n",
    "    return terms\n",
    "get_terms(collection)\n",
    "def get_unique_terms(terms):\n",
    "    # Convert the list of terms to a set to remove duplicates, then convert back to a list\n",
    "    unique_terms = list(set(terms))\n",
    "    \n",
    "    return unique_terms\n",
    "def display_dict(dic):\n",
    "    for i in dic :\n",
    "        print(i,\"\",dic[i])"
   ]
  },
  {
   "cell_type": "code",
   "execution_count": 61,
   "id": "b142a3b7",
   "metadata": {},
   "outputs": [],
   "source": [
    "def get_document_collection_terms(data):\n",
    "    docs_collection = {}\n",
    "    \n",
    "    for doc, content in data.items():\n",
    "        # Ignore boolean operators\n",
    "        if doc in boolean_operators:\n",
    "            continue\n",
    "        \n",
    "        # Extract unique terms\n",
    "        terms = list(set(content.split()))\n",
    "        \n",
    "        # Add the document ID\n",
    "        docs_collection[doc] = terms\n",
    "    \n",
    "    return docs_collection"
   ]
  },
  {
   "cell_type": "code",
   "execution_count": 62,
   "id": "e62a6a37",
   "metadata": {},
   "outputs": [
    {
     "data": {
      "text/plain": [
       "{'doc0': ['likes', ',', 'He', 'drink', 'he', 'to', 'wink'],\n",
       " 'doc1': ['likes', ',', 'He', 'drink,', 'drink', 'and', 'to'],\n",
       " 'doc2': ['likes', 'is', 'The', 'drink', 'thing', 'he', 'ink', 'to'],\n",
       " 'doc3': ['likes', 'pink', 'is', 'The', 'drink', 'he', 'ink', 'to'],\n",
       " 'doc4': ['likes', ',', 'pink', 'He', 'drink', 'and', 'ink', 'to', 'wink']}"
      ]
     },
     "execution_count": 62,
     "metadata": {},
     "output_type": "execute_result"
    }
   ],
   "source": [
    "get_document_collection_terms(collection)"
   ]
  },
  {
   "cell_type": "code",
   "execution_count": 63,
   "id": "d2ff4385",
   "metadata": {},
   "outputs": [],
   "source": [
    "def term_document_incidence_matrix(collection):\n",
    "    ## list of terms from the data file collection\n",
    "    terms=get_terms(collection)\n",
    "    #list of unique terms\n",
    "    unique_terms=get_unique_terms(terms)\n",
    "    #Document collection terms \n",
    "    docs_terms=get_document_collection_terms(collection) #TermDocumentIncidenceMatrix\n",
    "    term_docs_matrix={}\n",
    "    for term in unique_terms:\n",
    "        vector=[]\n",
    "        for c in docs_terms:\n",
    "            if term in docs_terms[c]:\n",
    "                vector.append(1) \n",
    "            else :\n",
    "                vector.append(0) \n",
    "            term_docs_matrix[term]=vector\n",
    "    return term_docs_matrix"
   ]
  },
  {
   "cell_type": "code",
   "execution_count": 64,
   "id": "d07538ab",
   "metadata": {},
   "outputs": [],
   "source": [
    "def term_incidence_vector(term,term_docs_incid_matrix):\n",
    "    try:\n",
    "        return term_docs_incid_matrix[term] \n",
    "    except:\n",
    "        return \"term not found\""
   ]
  },
  {
   "cell_type": "code",
   "execution_count": 65,
   "id": "bda132f8",
   "metadata": {},
   "outputs": [
    {
     "name": "stdout",
     "output_type": "stream",
     "text": [
      "Term-Document incidence Matrix\n",
      "\n"
     ]
    }
   ],
   "source": [
    "term_docs_incid_matrix=term_document_incidence_matrix(collection)\n",
    "print(\"Term-Document incidence Matrix\\n\")"
   ]
  },
  {
   "cell_type": "code",
   "execution_count": 66,
   "id": "cbc8c7e4",
   "metadata": {
    "scrolled": true
   },
   "outputs": [
    {
     "name": "stdout",
     "output_type": "stream",
     "text": [
      "likes  [1, 1, 1, 1, 1]\n",
      ",  [1, 1, 0, 0, 1]\n",
      "pink  [0, 0, 0, 1, 1]\n",
      "is  [0, 0, 1, 1, 0]\n",
      "He  [1, 1, 0, 0, 1]\n",
      "drink,  [0, 1, 0, 0, 0]\n",
      "The  [0, 0, 1, 1, 0]\n",
      "drink  [1, 1, 1, 1, 1]\n",
      "he  [1, 0, 1, 1, 0]\n",
      "thing  [0, 0, 1, 0, 0]\n",
      "and  [0, 1, 0, 0, 1]\n",
      "ink  [0, 0, 1, 1, 1]\n",
      "to  [1, 1, 1, 1, 1]\n",
      "wink  [1, 0, 0, 0, 1]\n",
      "<function term_document_incidence_matrix at 0x10817d580>\n"
     ]
    }
   ],
   "source": [
    "\n",
    "display_dict(term_docs_incid_matrix)\n",
    "print(term_document_incidence_matrix)"
   ]
  },
  {
   "cell_type": "code",
   "execution_count": 67,
   "id": "8fc2ab6a",
   "metadata": {},
   "outputs": [
    {
     "name": "stdout",
     "output_type": "stream",
     "text": [
      "likes  [1, 1, 1, 1, 1]\n",
      ",  [1, 1, 0, 0, 1]\n",
      "pink  [0, 0, 0, 1, 1]\n",
      "is  [0, 0, 1, 1, 0]\n",
      "He  [1, 1, 0, 0, 1]\n",
      "drink,  [0, 1, 0, 0, 0]\n",
      "The  [0, 0, 1, 1, 0]\n",
      "drink  [1, 1, 1, 1, 1]\n",
      "he  [1, 0, 1, 1, 0]\n",
      "thing  [0, 0, 1, 0, 0]\n",
      "and  [0, 1, 0, 0, 1]\n",
      "ink  [0, 0, 1, 1, 1]\n",
      "to  [1, 1, 1, 1, 1]\n",
      "wink  [1, 0, 0, 0, 1]\n"
     ]
    }
   ],
   "source": [
    "display_dict(term_docs_incid_matrix)"
   ]
  },
  {
   "cell_type": "code",
   "execution_count": 68,
   "id": "1e7a4baf",
   "metadata": {},
   "outputs": [],
   "source": [
    "def query_filteration(query,collection):\n",
    "    terms= get_terms(collection)\n",
    "    unique_terms=get_unique_terms(terms)\n",
    "    qterms=[]\n",
    "    splitted_query=query.split()\n",
    "    for qterm in splitted_query:\n",
    "        if qterm in unique_terms or qterm in boolean_operators:\n",
    "            qterms.append(qterm)\n",
    "    return qterms"
   ]
  },
  {
   "cell_type": "code",
   "execution_count": 69,
   "id": "40467d49",
   "metadata": {},
   "outputs": [],
   "source": [
    "query=\"likes AND drink powerfull\""
   ]
  },
  {
   "cell_type": "code",
   "execution_count": 70,
   "id": "cf2162d8",
   "metadata": {},
   "outputs": [
    {
     "data": {
      "text/plain": [
       "['likes', 'AND', 'drink']"
      ]
     },
     "execution_count": 70,
     "metadata": {},
     "output_type": "execute_result"
    }
   ],
   "source": [
    "query_filteration(query,collection)"
   ]
  },
  {
   "cell_type": "code",
   "execution_count": 71,
   "id": "f95a1f61",
   "metadata": {},
   "outputs": [],
   "source": [
    "def boolean_operator_processing(bool_operator,prevV,nextV):\n",
    "    if bool_operator == \"AND\":\n",
    "        return [a & b for a, b in zip(prevV, nextV)]\n",
    "    elif bool_operator==\"OR\" :\n",
    "        return [a | b for a, b in zip(prevV, nextV)]\n",
    "    elif bool_operator == \"NOT\":\n",
    "        return [1-a for a in prevV]"
   ]
  },
  {
   "cell_type": "code",
   "execution_count": 72,
   "id": "723cd681",
   "metadata": {},
   "outputs": [
    {
     "name": "stdout",
     "output_type": "stream",
     "text": [
      "v1 [1, 1, 1, 1, 1]\n",
      "v2 [1, 0, 0, 0, 1]\n"
     ]
    }
   ],
   "source": [
    "v1=term_incidence_vector('drink',term_docs_incid_matrix)\n",
    "v2=term_incidence_vector('wink',term_docs_incid_matrix)\n",
    "v3=[]\n",
    "print(\"v1\",v1)\n",
    "print(\"v2\",v2)"
   ]
  },
  {
   "cell_type": "code",
   "execution_count": 73,
   "id": "75c4f8d5",
   "metadata": {},
   "outputs": [
    {
     "name": "stdout",
     "output_type": "stream",
     "text": [
      "[1, 0, 0, 0, 1]\n"
     ]
    }
   ],
   "source": [
    "print(boolean_operator_processing(\"AND\",v1,v2))"
   ]
  },
  {
   "cell_type": "code",
   "execution_count": null,
   "id": "6479b79e",
   "metadata": {},
   "outputs": [],
   "source": []
  }
 ],
 "metadata": {
  "kernelspec": {
   "display_name": "Python 3 (ipykernel)",
   "language": "python",
   "name": "python3"
  },
  "language_info": {
   "codemirror_mode": {
    "name": "ipython",
    "version": 3
   },
   "file_extension": ".py",
   "mimetype": "text/x-python",
   "name": "python",
   "nbconvert_exporter": "python",
   "pygments_lexer": "ipython3",
   "version": "3.11.1"
  }
 },
 "nbformat": 4,
 "nbformat_minor": 5
}
